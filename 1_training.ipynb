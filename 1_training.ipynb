{
 "cells": [
  {
   "cell_type": "markdown",
   "id": "52932a1d-2ffe-4731-aa1e-286c991865e3",
   "metadata": {},
   "source": [
    "# Set the base model checkpoint\n",
    "\n",
    "The Microsoft BiomedBERT model is well suited for this task, as it is a masked language model trained on PubMed data.\n",
    "\n",
    "https://huggingface.co/microsoft/BiomedNLP-BiomedBERT-base-uncased-abstract"
   ]
  },
  {
   "cell_type": "code",
   "execution_count": 1,
   "id": "9c9ce218",
   "metadata": {},
   "outputs": [],
   "source": [
    "checkpoint = \"microsoft/BiomedNLP-BiomedBERT-base-uncased-abstract\""
   ]
  },
  {
   "cell_type": "markdown",
   "id": "60efa602",
   "metadata": {},
   "source": [
    "# Load the train and eval splits"
   ]
  },
  {
   "cell_type": "code",
   "execution_count": null,
   "id": "db154d9b",
   "metadata": {},
   "outputs": [],
   "source": [
    "from datasets import load_dataset\n",
    "\n",
    "def get_text_and_labels(x: dict) -> dict:\n",
    "    text = x[\"title\"] + \"\\n\" + \"\\n\".join(x[\"abstract\"])\n",
    "    return {\"text\": text, \"label\": int(x[\"is_selected\"])}\n",
    "\n",
    "dataset = load_dataset(\n",
    "    \"arrow\",\n",
    "    data_files={\n",
    "        \"train\": f\"datasets/abstracts.hf/train/data-00000-of-00001.arrow\",\n",
    "        \"eval\": f\"datasets/abstracts.hf/eval/data-00000-of-00001.arrow\",\n",
    "    },\n",
    ")\n",
    "\n",
    "dataset = dataset.map(get_text_and_labels)\n",
    "\n",
    "dataset"
   ]
  },
  {
   "cell_type": "markdown",
   "id": "2b32d177",
   "metadata": {},
   "source": [
    "# Tokenize the dataset"
   ]
  },
  {
   "cell_type": "code",
   "execution_count": null,
   "id": "44af252e",
   "metadata": {},
   "outputs": [],
   "source": [
    "from transformers import AutoTokenizer\n",
    "\n",
    "# max length must be explicitely defined here because it is not defined in the checkpoint config.\n",
    "tokenizer = AutoTokenizer.from_pretrained(checkpoint, model_max_length=512)\n",
    "\n",
    "tokenize_text = lambda x: tokenizer(x[\"text\"], truncation=True)\n",
    "\n",
    "dataset = dataset.map(tokenize_text, batched=True)\n",
    "\n",
    "dataset"
   ]
  },
  {
   "cell_type": "markdown",
   "id": "079416c3",
   "metadata": {},
   "source": [
    "# Train the model\n",
    "\n",
    "The model is trained for a single epoch, as the training split contains all negative examples and repeated positive examples. Evaluation is performed on the evaluation split every 1,000 steps."
   ]
  },
  {
   "cell_type": "code",
   "execution_count": null,
   "id": "bc2c07ee",
   "metadata": {},
   "outputs": [],
   "source": [
    "from transformers import (\n",
    "    AutoModelForSequenceClassification,\n",
    "    Trainer,\n",
    "    TrainingArguments,\n",
    ")\n",
    "\n",
    "model = AutoModelForSequenceClassification.from_pretrained(checkpoint, num_labels=2)\n",
    "\n",
    "training_args = TrainingArguments(\n",
    "    output_dir=\"training-logs\",\n",
    "    eval_steps=1000,\n",
    "    eval_strategy=\"steps\",\n",
    "    per_device_eval_batch_size=16,\n",
    "    per_device_train_batch_size=16,\n",
    "    num_train_epochs=1,\n",
    ")\n",
    "\n",
    "trainer = Trainer(\n",
    "    model,\n",
    "    training_args,\n",
    "    train_dataset=dataset[\"train\"],\n",
    "    eval_dataset=dataset[\"eval\"],\n",
    "    processing_class=tokenizer,\n",
    ")\n",
    "\n",
    "trainer.train()\n",
    "\n",
    "trainer.save_model(\"trained-model\")"
   ]
  }
 ],
 "metadata": {
  "kernelspec": {
   "display_name": "venv",
   "language": "python",
   "name": "python3"
  },
  "language_info": {
   "codemirror_mode": {
    "name": "ipython",
    "version": 3
   },
   "file_extension": ".py",
   "mimetype": "text/x-python",
   "name": "python",
   "nbconvert_exporter": "python",
   "pygments_lexer": "ipython3",
   "version": "3.12.9"
  }
 },
 "nbformat": 4,
 "nbformat_minor": 5
}
