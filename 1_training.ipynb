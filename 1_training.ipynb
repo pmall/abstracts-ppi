{
 "cells": [
  {
   "cell_type": "markdown",
   "id": "52932a1d-2ffe-4731-aa1e-286c991865e3",
   "metadata": {},
   "source": [
    "# Load the datasets"
   ]
  },
  {
   "cell_type": "code",
   "execution_count": null,
   "id": "db154d9b",
   "metadata": {},
   "outputs": [],
   "source": [
    "from datasets import load_dataset\n",
    "\n",
    "datasets = []\n",
    "\n",
    "for i in range(5):\n",
    "  datasets.append(load_dataset(\"arrow\", data_files={\n",
    "    \"train\": f\"datasets/dataset_balanced{i + 1}.hf/train/data-00000-of-00001.arrow\",\n",
    "    \"validation\": f\"datasets/dataset_balanced{i + 1}.hf/validation/data-00000-of-00001.arrow\",\n",
    "    \"test\": f\"datasets/dataset_balanced{i + 1}.hf/test/data-00000-of-00001.arrow\",\n",
    "  }))"
   ]
  },
  {
   "cell_type": "markdown",
   "id": "2740a7c8-f22a-455b-9fc4-bbd6f2512dec",
   "metadata": {},
   "source": [
    "# Prepare the datasets"
   ]
  },
  {
   "cell_type": "code",
   "execution_count": null,
   "id": "0907b841-327c-4e74-bbcc-ed16c802eee1",
   "metadata": {},
   "outputs": [],
   "source": [
    "from datasets import DatasetDict\n",
    "\n",
    "def prepare_dataset(dataset: DatasetDict) -> DatasetDict:\n",
    "    def get_text_and_labels (x: dict) -> dict:\n",
    "        text = x[\"title\"] + \"\\n\" + \"\\n\".join(x[\"abstract\"])\n",
    "        hh_selected = x[\"is_selected\"] and x[\"type\"] == \"hh\"\n",
    "        vh_selected = x[\"is_selected\"] and x[\"type\"] == \"vh\"\n",
    "        not_selected = not x[\"is_selected\"]\n",
    "        return {\"text\": text, \"labels\": [hh_selected or vh_selected, not_selected]}\n",
    "\n",
    "    return dataset.map(get_text_and_labels).remove_columns([\"pmid\", \"title\", \"journal\", \"abstract\", \"authors\"])\n",
    "\n",
    "datasets = [prepare_dataset(dataset) for dataset in datasets]\n",
    "\n",
    "datasets[0]"
   ]
  }
 ],
 "metadata": {
  "kernelspec": {
   "display_name": "venv",
   "language": "python",
   "name": "python3"
  },
  "language_info": {
   "codemirror_mode": {
    "name": "ipython",
    "version": 3
   },
   "file_extension": ".py",
   "mimetype": "text/x-python",
   "name": "python",
   "nbconvert_exporter": "python",
   "pygments_lexer": "ipython3",
   "version": "3.12.8"
  }
 },
 "nbformat": 4,
 "nbformat_minor": 5
}
