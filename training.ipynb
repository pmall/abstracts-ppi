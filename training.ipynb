{
 "cells": [
  {
   "cell_type": "markdown",
   "id": "fe0b6c28-2593-4f12-abf1-b07390565387",
   "metadata": {},
   "source": [
    "# Loading the dataset"
   ]
  },
  {
   "cell_type": "code",
   "execution_count": null,
   "id": "0e9c5864-ceae-4152-81f0-7e3c225cdc85",
   "metadata": {},
   "outputs": [],
   "source": [
    "\n",
    "from datasets import DatasetDict, load_dataset\n",
    "\n",
    "dataset = load_dataset(\"json\", data_files=\"./dataset/raw.jsonl\", split=\"train\")\n",
    "\n",
    "dataset"
   ]
  },
  {
   "cell_type": "markdown",
   "id": "5c76e09d-070e-410c-87fc-df81af726106",
   "metadata": {},
   "source": [
    "# Filtering the short abstracts (< 30 words)"
   ]
  },
  {
   "cell_type": "code",
   "execution_count": null,
   "id": "2922b55f-eb33-4814-956e-10a2179e8605",
   "metadata": {},
   "outputs": [],
   "source": [
    "def abstract_has_30_words(x: dict) -> bool:\n",
    "  if (len(x[\"abstract\"]) == 0):\n",
    "    return False\n",
    "  \n",
    "  words = \" \".join(x[\"abstract\"]).split()\n",
    "\n",
    "  return len(words) >= 30\n",
    "\n",
    "dataset = dataset.filter(abstract_has_30_words)\n",
    "\n",
    "dataset"
   ]
  },
  {
   "cell_type": "markdown",
   "id": "52932a1d-2ffe-4731-aa1e-286c991865e3",
   "metadata": {},
   "source": [
    "# Adding text and labels columns"
   ]
  },
  {
   "cell_type": "code",
   "execution_count": null,
   "id": "0907b841-327c-4e74-bbcc-ed16c802eee1",
   "metadata": {},
   "outputs": [],
   "source": [
    "def get_text_and_labels (x: dict) -> dict:\n",
    "    text = x[\"title\"] + \"\\n\" + \"\\n\".join(x[\"abstract\"])\n",
    "    hh_selected = x[\"is_selected\"] and x[\"type\"] == \"hh\"\n",
    "    vh_selected = x[\"is_selected\"] and x[\"type\"] == \"vh\"\n",
    "    not_selected = not x[\"is_selected\"]\n",
    "    return {\"text\": text, \"labels\": [hh_selected or vh_selected, not_selected]}\n",
    "\n",
    "dataset = dataset.map(get_text_and_labels)\n",
    "\n",
    "dataset"
   ]
  },
  {
   "cell_type": "markdown",
   "id": "2740a7c8-f22a-455b-9fc4-bbd6f2512dec",
   "metadata": {},
   "source": [
    "# Removing useless columns"
   ]
  },
  {
   "cell_type": "code",
   "execution_count": null,
   "id": "7b877e86-99a2-4c4a-b50e-9c3cee3fd951",
   "metadata": {},
   "outputs": [],
   "source": [
    "dataset = dataset.remove_columns([\"pmid\", \"title\", \"journal\", \"abstract\", \"authors\"])\n",
    "\n",
    "dataset"
   ]
  },
  {
   "cell_type": "markdown",
   "id": "d9cf1a49-a77e-44a6-8923-1a5d1ee63dc0",
   "metadata": {},
   "source": [
    "# Randomly sample balanced datasets"
   ]
  },
  {
   "cell_type": "code",
   "execution_count": null,
   "id": "3c19830c-2fb1-412b-b4cc-495812830d2b",
   "metadata": {},
   "outputs": [],
   "source": [
    "def sample_balanced_dataset(dataset: DatasetDict, num_negative_examples = 15000) -> DatasetDict:\n",
    "  count_negative_examples = 0\n",
    "\n",
    "  def filter_negative_examples(x: dict) -> dict:\n",
    "    nonlocal count_negative_examples\n",
    "\n",
    "    if (x['is_selected']):\n",
    "      return True\n",
    "    \n",
    "    count_negative_examples += 1\n",
    "\n",
    "    return count_negative_examples <= num_negative_examples\n",
    "  \n",
    "  return dataset.shuffle().filter(filter_negative_examples)"
   ]
  },
  {
   "cell_type": "code",
   "execution_count": null,
   "id": "8205d4a9",
   "metadata": {},
   "outputs": [],
   "source": [
    "for i in range(5):\n",
    "  datasetI = sample_balanced_dataset(dataset).train_test_split(0.1)\n",
    "  print(datasetI[\"test\"][range(3)])\n",
    "\n",
    "  "
   ]
  },
  {
   "cell_type": "code",
   "execution_count": null,
   "id": "4bb1e7a4",
   "metadata": {},
   "outputs": [],
   "source": []
  }
 ],
 "metadata": {
  "kernelspec": {
   "display_name": "venv",
   "language": "python",
   "name": "python3"
  },
  "language_info": {
   "codemirror_mode": {
    "name": "ipython",
    "version": 3
   },
   "file_extension": ".py",
   "mimetype": "text/x-python",
   "name": "python",
   "nbconvert_exporter": "python",
   "pygments_lexer": "ipython3",
   "version": "3.12.8"
  }
 },
 "nbformat": 4,
 "nbformat_minor": 5
}
