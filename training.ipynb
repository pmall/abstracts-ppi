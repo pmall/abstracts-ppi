{
 "cells": [
  {
   "cell_type": "markdown",
   "id": "fe0b6c28-2593-4f12-abf1-b07390565387",
   "metadata": {},
   "source": [
    "# Loading the dataset"
   ]
  },
  {
   "cell_type": "code",
   "execution_count": 1,
   "id": "0e9c5864-ceae-4152-81f0-7e3c225cdc85",
   "metadata": {},
   "outputs": [
    {
     "data": {
      "application/vnd.jupyter.widget-view+json": {
       "model_id": "3d4ca12e6b4a43c09d33766b80871438",
       "version_major": 2,
       "version_minor": 0
      },
      "text/plain": [
       "Generating train split: 0 examples [00:00, ? examples/s]"
      ]
     },
     "metadata": {},
     "output_type": "display_data"
    },
    {
     "data": {
      "text/plain": [
       "Dataset({\n",
       "    features: ['type', 'pmid', 'is_selected', 'title', 'journal', 'abstract', 'authors'],\n",
       "    num_rows: 93560\n",
       "})"
      ]
     },
     "execution_count": 1,
     "metadata": {},
     "output_type": "execute_result"
    }
   ],
   "source": [
    "\n",
    "from datasets import DatasetDict, load_dataset\n",
    "\n",
    "dataset = load_dataset(\"json\", data_files=\"./dataset/raw.jsonl\", split=\"train\")\n",
    "\n",
    "dataset"
   ]
  },
  {
   "cell_type": "markdown",
   "id": "5c76e09d-070e-410c-87fc-df81af726106",
   "metadata": {},
   "source": [
    "# Filtering the short abstracts (< 30 words)"
   ]
  },
  {
   "cell_type": "code",
   "execution_count": 2,
   "id": "2922b55f-eb33-4814-956e-10a2179e8605",
   "metadata": {},
   "outputs": [
    {
     "data": {
      "application/vnd.jupyter.widget-view+json": {
       "model_id": "ada6660ee2e84a9aa54367cd0d937055",
       "version_major": 2,
       "version_minor": 0
      },
      "text/plain": [
       "Filter:   0%|          | 0/93560 [00:00<?, ? examples/s]"
      ]
     },
     "metadata": {},
     "output_type": "display_data"
    },
    {
     "data": {
      "text/plain": [
       "Dataset({\n",
       "    features: ['type', 'pmid', 'is_selected', 'title', 'journal', 'abstract', 'authors'],\n",
       "    num_rows: 92719\n",
       "})"
      ]
     },
     "execution_count": 2,
     "metadata": {},
     "output_type": "execute_result"
    }
   ],
   "source": [
    "def abstract_has_30_words(x: dict) -> bool:\n",
    "  if (len(x[\"abstract\"]) == 0):\n",
    "    return False\n",
    "  \n",
    "  words = \" \".join(x[\"abstract\"]).split()\n",
    "\n",
    "  return len(words) >= 30\n",
    "\n",
    "dataset = dataset.filter(abstract_has_30_words)\n",
    "\n",
    "dataset"
   ]
  },
  {
   "cell_type": "markdown",
   "id": "52932a1d-2ffe-4731-aa1e-286c991865e3",
   "metadata": {},
   "source": [
    "# Adding text and labels columns"
   ]
  },
  {
   "cell_type": "code",
   "execution_count": 3,
   "id": "0907b841-327c-4e74-bbcc-ed16c802eee1",
   "metadata": {},
   "outputs": [
    {
     "data": {
      "application/vnd.jupyter.widget-view+json": {
       "model_id": "7a81ec4e4bc34d3085011c0078404df8",
       "version_major": 2,
       "version_minor": 0
      },
      "text/plain": [
       "Map:   0%|          | 0/92719 [00:00<?, ? examples/s]"
      ]
     },
     "metadata": {},
     "output_type": "display_data"
    },
    {
     "data": {
      "text/plain": [
       "Dataset({\n",
       "    features: ['type', 'pmid', 'is_selected', 'title', 'journal', 'abstract', 'authors', 'text', 'labels'],\n",
       "    num_rows: 92719\n",
       "})"
      ]
     },
     "execution_count": 3,
     "metadata": {},
     "output_type": "execute_result"
    }
   ],
   "source": [
    "def get_text_and_labels (x: dict) -> dict:\n",
    "    text = x[\"title\"] + \"\\n\" + \"\\n\".join(x[\"abstract\"])\n",
    "    hh_selected = x[\"is_selected\"] and x[\"type\"] == \"hh\"\n",
    "    vh_selected = x[\"is_selected\"] and x[\"type\"] == \"vh\"\n",
    "    not_selected = not x[\"is_selected\"]\n",
    "    return {\"text\": text, \"labels\": [hh_selected or vh_selected, not_selected]}\n",
    "\n",
    "dataset = dataset.map(get_text_and_labels)\n",
    "\n",
    "dataset"
   ]
  },
  {
   "cell_type": "markdown",
   "id": "2740a7c8-f22a-455b-9fc4-bbd6f2512dec",
   "metadata": {},
   "source": [
    "# Removing useless columns"
   ]
  },
  {
   "cell_type": "code",
   "execution_count": 4,
   "id": "7b877e86-99a2-4c4a-b50e-9c3cee3fd951",
   "metadata": {},
   "outputs": [
    {
     "data": {
      "text/plain": [
       "Dataset({\n",
       "    features: ['type', 'is_selected', 'text', 'labels'],\n",
       "    num_rows: 92719\n",
       "})"
      ]
     },
     "execution_count": 4,
     "metadata": {},
     "output_type": "execute_result"
    }
   ],
   "source": [
    "dataset = dataset.remove_columns([\"pmid\", \"title\", \"journal\", \"abstract\", \"authors\"])\n",
    "\n",
    "dataset"
   ]
  },
  {
   "cell_type": "markdown",
   "id": "d9cf1a49-a77e-44a6-8923-1a5d1ee63dc0",
   "metadata": {},
   "source": [
    "# Randomly sample balanced datasets"
   ]
  },
  {
   "cell_type": "code",
   "execution_count": 5,
   "id": "3c19830c-2fb1-412b-b4cc-495812830d2b",
   "metadata": {},
   "outputs": [],
   "source": [
    "def sample_balanced_dataset(dataset: DatasetDict, num_negative_examples = 15000) -> DatasetDict:\n",
    "  count_negative_examples = 0\n",
    "\n",
    "  def filter_negative_examples(x: dict) -> dict:\n",
    "    nonlocal count_negative_examples\n",
    "\n",
    "    if (x['is_selected']):\n",
    "      return True\n",
    "    \n",
    "    count_negative_examples += 1\n",
    "\n",
    "    return count_negative_examples <= num_negative_examples\n",
    "  \n",
    "  return dataset.shuffle().filter(filter_negative_examples)"
   ]
  },
  {
   "cell_type": "code",
   "execution_count": 6,
   "id": "8205d4a9",
   "metadata": {},
   "outputs": [
    {
     "data": {
      "application/vnd.jupyter.widget-view+json": {
       "model_id": "08652c639c054bbcbfd937c488e3193a",
       "version_major": 2,
       "version_minor": 0
      },
      "text/plain": [
       "Filter:   0%|          | 0/92719 [00:00<?, ? examples/s]"
      ]
     },
     "metadata": {},
     "output_type": "display_data"
    },
    {
     "name": "stdout",
     "output_type": "stream",
     "text": [
      "{'type': ['vh', 'vh', 'vh'], 'is_selected': [False, True, True], 'text': [\"Inhibition Potencies of Phytochemicals Derived from Sesame Against SARS-CoV-2 Main Protease: A Molecular Docking and Simulation Study.\\nThe ongoing COVID-19 pandemic, caused by SARS-CoV-2, has now spread across the nations with high mortality rates and multifaceted impact on human life. The proper treatment methods to overcome this contagious disease are still limited. The main protease enzyme (M<sup>pro</sup>, also called 3CL<sup>pro</sup>) is essential for viral replication and has been considered as one of the potent drug targets for treating COVID-19. In this study, virtual screening was performed to find out the molecular interactions between 36 natural compounds derived from sesame and the M<sup>pro</sup> of COVID-19. Four natural metabolites, namely, sesamin, sesaminol, sesamolin, and sesamolinol have been ranked as the top interacting molecules to M<sup>pro</sup> based on the affinity of molecular docking. Moreover, stability of these four sesame-specific natural compounds has also been evaluated using molecular dynamics (MD) simulations for 200 nanoseconds. The molecular dynamics simulations and free energy calculations revealed that these compounds have stable and favorable energies, causing strong binding with M<sup>pro</sup>. These screened natural metabolites also meet the essential conditions for drug likeness such as absorption, distribution, metabolism, and excretion (ADME) properties as well as Lipinski's rule of five. Our finding suggests that these screened natural compounds may be evolved as promising therapeutics against COVID-19.\", 'Molecular determinants of the interaction between coxsackievirus protein 3A and guanine nucleotide exchange factor GBF1.\\nThe 3A protein of coxsackievirus B3 (CVB3), a small membrane protein that forms homodimers, inhibits endoplasmic reticulum-to-Golgi complex transport. Recently, we described the underlying mechanism by showing that the CVB3 3A protein binds to and inhibits the function of GBF1, a guanine nucleotide exchange factor for ADP-ribosylation factor 1 (Arf1), thereby interfering with Arf1-mediated COP-I recruitment. This study was undertaken to gain more insight into the molecular determinants underlying the interaction between 3A and GBF1. Here we show that 3A mutants that have lost the ability to dimerize are no longer able to bind to GBF1 and trap it on membranes. Moreover, we identify a conserved region in the N terminus of 3A that is crucial for GBF1 binding but not for 3A dimerization. Analysis of the binding domain in GBF1 showed that the extreme N terminus, the dimerization/cyclophilin binding domain, and the homology upstream of Sec7 domain are required for the interaction with 3A. In contrast to that of full-length GBF1, overexpression of a GBF1 mutant lacking its extreme N terminus failed to rescue the effects of 3A. Together, these data provide insight into the molecular requirements of the interaction between 3A and GBF1.', 'Host interactions of Chandipura virus matrix protein.\\nThe rhabdovirus matrix (M) protein is a multifunctional virion protein that plays major role in virus assembly and budding, virus-induced inhibition of host gene expression and cytopathic effects observed in infected cells. The myriad roles played by this protein in the virus biology make it a critical player in viral pathogenesis. Therefore, discerning the interactions of this protein with host can greatly facilitate our understanding of virus infections, ultimately leading to both improved therapeutics and insight into cellular processes. Chandipura virus (CHPV; Family Rhabdoviridae, Genus Vesiculovirus) is an emerging rhabdovirus responsible for several outbreaks of fatal encephalitis among children in India. The present study aims to screen the human fetal brain cDNA library for interactors of CHPV M protein using yeast two-hybrid system. Ten host protein interactors were identified, three of which were further validated by affinity pull down and protein interaction ELISA. The study identified novel human host interactors for CHPV which concurred with previously described associations in other human viruses. '], 'labels': [[False, True], [True, False], [True, False]]}\n"
     ]
    },
    {
     "data": {
      "application/vnd.jupyter.widget-view+json": {
       "model_id": "68de9e6a94814d5fbd44594d00f4e362",
       "version_major": 2,
       "version_minor": 0
      },
      "text/plain": [
       "Filter:   0%|          | 0/92719 [00:00<?, ? examples/s]"
      ]
     },
     "metadata": {},
     "output_type": "display_data"
    },
    {
     "name": "stdout",
     "output_type": "stream",
     "text": [
      "{'type': ['vh', 'hh', 'hh'], 'is_selected': [False, True, True], 'text': ['Cytomegalovirus and HIV: A Dangerous Pas de Deux.\\nHuman immunodeficiency virus (HIV)-infected adults who take stable antiretroviral therapy (ART) are at risk for early onset of age-related diseases. This is likely due to a complex interaction between traditional risk factors, HIV infection itself, and other factors, such as underlying immune dysfunction and persistent inflammation. HIV disrupts the balance between the host and coinfecting microbes, worsening control of these potential pathogens. For example, HIV-infected adults are more likely than the general population to have subclinical bursts of cytomegalovirus (CMV) replication at mucosal sites. Production of antigens can activate the immune system and stimulate HIV replication, and it could contribute to the pathogenesis of adverse outcomes of aging, like cardiovascular disease and neurocognitive impairment. Further investigation of the relationships between CMV, immune dysfunction, and unsuccessful aging during chronic HIV infection is warranted.', \"Activation of Src and transformation by an RPTPα splice mutant found in human tumours.\\nReceptor protein tyrosine phosphatase α (RPTPα)-mediated Src activation is required for survival of tested human colon and oestrogen receptor-negative breast cancer cell lines. To explore whether mutated RPTPα participates in human carcinogenesis, we sequenced RPTPα cDNAs from five types of human tumours and found splice mutants in ∼30% of colon, breast, and liver tumours. RPTPα245, a mutant expressed in all three tumour types, was studied further. Although it lacks any catalytic domain, RPTPα245 expression in the tumours correlated with Src tyrosine dephosphorylation, and its expression in rodent fibroblasts activated Src by a novel mechanism. This involved RPTPα245 binding to endogenous RPTPα (eRPTPα), which decreased eRPTPα-Grb2 binding and increased eRPTPα dephosphorylation of Src without increasing non-specific eRPTPα activity. RPTPα245-eRPTPα binding was blocked by Pro210 → Leu/Pro211 → Leu mutation, consistent with the involvement of the structural 'wedge' that contributes to eRPTPα homodimerization. RPTPα245-induced fibroblast transformation was blocked by either Src or eRPTPα RNAi, indicating that this required the dephosphorylation of Src by eRPTPα. The transformed cells were tumourigenic in nude mice, suggesting that RPTPα245-induced activation of Src in the human tumours may have contributed to carcinogenesis.\", 'Crystal structure of a complex between human spliceosomal cyclophilin H and a U4/U6 snRNP-60K peptide.\\nThe spliceosomal cyclophilin H is a specific component of the human U4/U6 small nuclear ribonucleoprotein particle, interacting with homologous sequences in the proteins U4/U6-60K and hPrp18 during pre-mRNA splicing. We determined the crystal structure of the complex comprising cyclophilin H and the cognate domain of U4/U6-60K. The 31 amino acid fragment of U4/U6-60K is bound to a region remote from the cyclophilin active site. Residues Ile118-Phe121 of U4/U6-60K expand the central beta-sheet of cyclophilin H and the side-chain of Phe121 inserts into a hydrophobic cavity. Concomitantly, in the crystal the cyclophilin H active site is occupied by the N terminus of a neighboring cyclophilin H molecule in a substrate-like manner, indicating the capacity of joint binding to a substrate and to U4/U6-60K. Free and complexed cyclophilin H have virtually identical conformations suggesting that the U4/U6-60K binding site is pre-shaped and the peptidyl-prolyl-cis/trans isomerase activity is unaffected by complex formation. The complex defines a novel protein-protein interaction mode for a cyclophilin, allowing cyclophilin H to mediate interactions between different proteins inside the spliceosome or to initiate from its binding platforms isomerization or chaperoning activities.'], 'labels': [[False, True], [True, False], [True, False]]}\n"
     ]
    },
    {
     "data": {
      "application/vnd.jupyter.widget-view+json": {
       "model_id": "504cf2dfd6584ee7ba07b5a5225f0fc7",
       "version_major": 2,
       "version_minor": 0
      },
      "text/plain": [
       "Filter:   0%|          | 0/92719 [00:00<?, ? examples/s]"
      ]
     },
     "metadata": {},
     "output_type": "display_data"
    },
    {
     "name": "stdout",
     "output_type": "stream",
     "text": [
      "{'type': ['vh', 'vh', 'hh'], 'is_selected': [False, False, True], 'text': [\"KSHV MicroRNAs Repress Tropomyosin 1 and Increase Anchorage-Independent Growth and Endothelial Tube Formation.\\nKaposi's sarcoma (KS) is characterized by highly vascularized spindle-cell tumors induced after infection of endothelial cells by Kaposi's sarcoma-associated herpesvirus (KSHV). In KS tumors, KSHV expresses only a few latent proteins together with 12 pre-microRNAs. Previous microarray and proteomic studies predicted that multiple splice variants of the tumor suppressor protein tropomyosin 1 (TPM1) were targets of KSHV microRNAs. Here we show that at least two microRNAs of KSHV, miR-K2 and miR-K5, repress protein levels of specific isoforms of TPM1. We identified a functional miR-K5 binding site in the 3' untranslated region (UTR) of one TPM1 isoform. Furthermore, the inhibition or loss of miR-K2 or miR-K5 restores expression of TPM1 in KSHV-infected cells. TPM1 protein levels were also repressed in KSHV-infected clinical samples compared to uninfected samples. Functionally, miR-K2 increases viability of unanchored human umbilical vein endothelial cells (HUVEC) by inhibiting anoikis (apoptosis after cell detachment), enhances tube formation of HUVECs, and enhances VEGFA expression. Taken together, KSHV miR-K2 and miR-K5 may facilitate KSHV pathogenesis.\", 'In vivo functions of CPSF6 for HIV-1 as revealed by HIV-1 capsid evolution in HLA-B27-positive subjects.\\nThe host protein CPSF6 possesses a domain that can interact with the HIV-1 capsid (CA) protein. CPSF6 has been implicated in regulating HIV-1 nuclear entry. However, its functional significance for HIV-1 replication has yet to be firmly established. Here we provide evidence for two divergent functions of CPSF6 for HIV-1 replication in vivo. We demonstrate that endogenous CPSF6 exerts an inhibitory effect on naturally occurring HIV-1 variants in individuals carrying the HLA-B27 allele. Conversely, we find a strong selective pressure in these individuals to preserve CPSF6 binding, while escaping from the restrictive activity by CPSF6. This active maintenance of CPSF6 binding during HIV-1 CA evolution in vivo contrasts with the in vitro viral evolution, which can reduce CPSF6 binding to evade from CPSF6-mediated restriction. Thus, these observations argue for a beneficial role of CPSF6 for HIV-1 in vivo. CPSF6-mediated restriction renders HIV-1 less dependent or independent from TNPO3, RanBP2 and Nup153, host factors implicated in HIV-1 nuclear entry. However, viral evolution that maintains CPSF6 binding in HLA-B27+ subjects invariably restores the ability to utilize these host factors, which may be the major selective pressure for CPSF6 binding in vivo. Our study uncovers two opposing CA-dependent functions of CPSF6 in HIV-1 replication in vivo; however, the benefit for binding CPSF6 appears to outweigh the cost, providing support for a vital function of CPSF6 during HIV-1 replication in vivo.', 'Identification and characterization of zipper-interacting protein kinase as the unique vascular smooth muscle myosin phosphatase-associated kinase.\\nExcitation-contraction coupling in smooth muscle involves activation of myosin light chain (MLC) phosphorylation, which increases activity of the myosin actin-activated ATPase, resulting in contraction. Phosphorylation of MLC phosphatase (SMPP-1M) by Rho-associated kinase or endogenous SMPP-1M-associated kinase inhibits SMPP-1M, enhancing MLC phosphorylation and contraction. However, the precise identity of SMPP-1M-associated kinase remains unclear. Biochemical evidence strongly supports the idea that SMPP-1M-associated kinase is related to the human serine/threonine leucine zipper-interacting protein kinase (hZIPK), which is important in cell apoptosis, and the SMPP-1M-associated kinase has therefore been called ZIP-like kinase (MacDonald, J. A., Borman, M. A., Murani, A., Somlyo, A. V., Hartshorne, D. J., and Haystead, T. A. J. (2001) Proc. Natl. Acad. Sci. U. S. A. 98, 2419-2424). Whether the vascular smooth muscle SMPP-1M-associated kinase is a truncated version of hZIPK, native hZIPK, or a unique homologue of hZIPK is unclear. Here we show that only native hZIPK mRNA and protein are detectable in human vascular smooth muscle cells (VSMCs). High stringency screening of a human aortic cDNA library for the SMPP-1M-associated kinase identified 18 positive clones, all of which proved to be clones of hZIPK. PCR-based studies of VSMC RNA revealed native hZIPK transcripts but no evidence for splice variants of hZIPK or a ZIP-like kinase. Northern blotting studies of multiple vascular and non-vascular tissue RNAs, including human bladder RNA, showed only 2.3 kb of mRNA predicted for full-length hZIPK. Immunoblotting showed native full-length 52-kDa hZIPK expression in VSMCs. Full-length and N-terminal hZIPK bound the C-terminal domain (amino acids 681-847) of the myosin binding subunit (MBS) of SMPP-1M. hZIPK immunoprecipitated with the MBS of SMPP-1M and dominant negative RhoA inhibited the hZIPK-MBS interaction. These data identify hZIPK as the unique SMPP-1-associated kinase expressed in human vesicular smooth muscle and support a role for Rho in promoting the hZIPK-MBS interaction.'], 'labels': [[False, True], [False, True], [True, False]]}\n"
     ]
    },
    {
     "data": {
      "application/vnd.jupyter.widget-view+json": {
       "model_id": "575e138d68ab4f54824673d64e7a1308",
       "version_major": 2,
       "version_minor": 0
      },
      "text/plain": [
       "Filter:   0%|          | 0/92719 [00:00<?, ? examples/s]"
      ]
     },
     "metadata": {},
     "output_type": "display_data"
    },
    {
     "name": "stdout",
     "output_type": "stream",
     "text": [
      "{'type': ['hh', 'vh', 'vh'], 'is_selected': [True, False, True], 'text': ['Crystal structure of a soluble decoy receptor IL-22BP bound to interleukin-22.\\nInterleukin-22 (IL-22) plays an important role in the regulation of immune and inflammatory responses in mammals. The IL-22 binding protein (IL-22BP), a soluble receptor that specifically binds IL-22, prevents the IL-22/interleukin-22 receptor 1 (IL-22R1)/interleukin-10 receptor 2 (IL-10R2) complex assembly and blocks IL-22 biological activity. Here we present the crystal structure of the IL-22/IL-22BP complex at 2.75 A resolution. The structure reveals IL-22BP residues critical for IL-22 binding, which were confirmed by site-directed mutagenesis and functional studies. Comparison of IL-22/IL-22BP and IL-22/IL-22R1 crystal structures shows that both receptors display an overlapping IL-22 binding surface, which is consistent with the inhibitory role played by IL-22 binding protein.', 'The role of viruses in the inception of sinusitis.\\nChronic rhinosinusitis (CRS) is a complex inflammatory disorder that affects between 2 and 16% of adults in the United States with estimated healthcare costs between 4 to 12 million USD. Viruses are a frequent cause of upper respiratory infections and a trigger for CRS exacerbations. There are several cross-sectional studies that have identified types of viruses associated with CRS. Rhinovirus, parainfluenza virus, influenza virus, and respiratory syncytial virus were the main associated viruses found in nasal lavage samples of patients with CRS. Other viruses such as adenovirus or severe acute respiratory syndrome coronavirus 2 (SARS-CoV-2) have weak associations with CRS and were excluded from the review. Rhinovirus and its subtypes utilize glycoproteins like intercellular adhesion molecule 1 (ICAM-1), low density lipoprotein receptor (LDLR) family members, and cadherin-related family member 3 (CDHR3) to invade host cells. Influenza and parainfluenza virus invade through the binding of hemagglutinin (HA) to sialic acid-containing molecules while respiratory syncytial virus has a RSV specific glycoprotein that binds to the cellular receptor human nucleolin (NCL). Viral infection that causes CRS is frequently associated with type 1 and type 2 immune responses. Dysregulated immune response to viral infections can result in the activation of airway remodeling, epithelial-mesenchymal transitions, and epithelial barrier breakdown that are central to the pathogenesis of CRS. Risk factors for viral infections in CRS. Dysfunctional epithelial barrier function and age are strong risk factors for CRS infections. Comorbid respiratory diseases like asthma or allergic rhinitis are highly associated with CRS risk and CRS exacerbations. Children are also more likely to have upper respiratory tract infections than adults and viruses associated with CRS are more prevalent in infants and children. Studying and understanding the role of viruses in CRS is an important step in identifying disease pathogenesis and targeting these pathways early to slow disease progression.', 'Envelope residue 375 substitutions in simian-human immunodeficiency viruses enhance CD4 binding and replication in rhesus macaques.\\nMost simian-human immunodeficiency viruses (SHIVs) bearing envelope (Env) glycoproteins from primary HIV-1 strains fail to infect rhesus macaques (RMs). We hypothesized that inefficient Env binding to rhesus CD4 (rhCD4) limits virus entry and replication and could be enhanced by substituting naturally occurring simian immunodeficiency virus Env residues at position 375, which resides at a critical location in the CD4-binding pocket and is under strong positive evolutionary pressure across the broad spectrum of primate lentiviruses. SHIVs containing primary or transmitted/founder HIV-1 subtype A, B, C, or D Envs with genotypic variants at residue 375 were constructed and analyzed in vitro and in vivo. Bulky hydrophobic or basic amino acids substituted for serine-375 enhanced Env affinity for rhCD4, virus entry into cells bearing rhCD4, and virus replication in primary rhCD4 T cells without appreciably affecting antigenicity or antibody-mediated neutralization sensitivity. Twenty-four RMs inoculated with subtype A, B, C, or D SHIVs all became productively infected with different Env375 variants-S, M, Y, H, W, or F-that were differentially selected in different Env backbones. Notably, SHIVs replicated persistently at titers comparable to HIV-1 in humans and elicited autologous neutralizing antibody responses typical of HIV-1. Seven animals succumbed to AIDS. These findings identify Env-rhCD4 binding as a critical determinant for productive SHIV infection in RMs and validate a novel and generalizable strategy for constructing SHIVs with Env glycoproteins of interest, including those that in humans elicit broadly neutralizing antibodies or bind particular Ig germ-line B-cell receptors.'], 'labels': [[True, False], [False, True], [True, False]]}\n"
     ]
    },
    {
     "data": {
      "application/vnd.jupyter.widget-view+json": {
       "model_id": "b14050cfcfae425bae83d7d99b7f830f",
       "version_major": 2,
       "version_minor": 0
      },
      "text/plain": [
       "Filter:   0%|          | 0/92719 [00:00<?, ? examples/s]"
      ]
     },
     "metadata": {},
     "output_type": "display_data"
    },
    {
     "name": "stdout",
     "output_type": "stream",
     "text": [
      "{'type': ['vh', 'vh', 'vh'], 'is_selected': [True, False, False], 'text': [\"SARS-CoV-2 spike engagement of ACE2 primes S2' site cleavage and fusion initiation.\\nThe COVID-19 pandemic caused by severe acute respiratory syndrome coronavirus 2 (SARS-CoV-2) infection has resulted in tremendous loss worldwide. Although viral spike (S) protein binding of angiotensin-converting enzyme 2 (ACE2) has been established, the functional consequences of the initial receptor binding and the stepwise fusion process are not clear. By utilizing a cell-cell fusion system, in complement with a pseudoviral infection model, we found that the spike engagement of ACE2 primed the generation of S2' fragments in target cells, a key proteolytic event coupled with spike-mediated membrane fusion. Mutagenesis of an S2' cleavage site at the arginine (R) 815, but not an S2 cleavage site at arginine 685, was sufficient to prevent subsequent syncytia formation and infection in a variety of cell lines and primary cells isolated from human ACE2 knock-in mice. The requirement for S2' cleavage at the R815 site was also broadly shared by other SARS-CoV-2 spike variants, such as the Alpha, Beta, and Delta variants of concern. Thus, our study highlights an essential role for host receptor engagement and the key residue of spike for proteolytic activation, and uncovers a targetable mechanism for host cell infection by SARS-CoV-2.\", \"The importance of NAD in multiple sclerosis.\\nThe etiology of multiple sclerosis (MS) is unknown but it manifests as a chronic inflammatory demyelinating disease in the central nervous system (CNS). During chronic CNS inflammation, nicotinamide adenine dinucleotide (NAD) concentrations are altered by (T helper) Th1-derived cytokines through the coordinated induction of both indoleamine 2,3-dioxygenase (IDO) and the ADP cyclase CD38 in pathogenic microglia and lymphocytes. While IDO activation may keep auto-reactive T cells in check, hyper-activation of IDO can leave neuronal CNS cells starving for extracellular sources of NAD. Existing data indicate that glia may serve critical functions as an essential supplier of NAD to neurons during times of stress. Administration of pharmacological doses of non-tryptophan NAD precursors ameliorates pathogenesis in animal models of MS. Animal models of MS involve artificially stimulated autoimmune attack of myelin by experimental autoimmune encephalomyelitis (EAE) or by viral-mediated demyelination using Thieler's murine encephalomyelitis virus (TMEV). The Wld(S) mouse dramatically resists razor axotomy mediated axonal degeneration. This resistance is due to increased efficiency of NAD biosynthesis that delays stress-induced depletion of axonal NAD and ATP. Although the Wld(S) genotype protects against EAE pathogenesis, TMEV-mediated pathogenesis is exacerbated. In this review, we contrast the role of NAD in EAE versus TMEV demyelinating pathogenesis to increase our understanding of the pharmacotherapeutic potential of NAD signal transduction pathways. We speculate on the importance of increased SIRT1 activity in both PARP-1 inhibition and the potentially integral role of neuronal CD200 interactions through glial CD200R with induction of IDO in MS pathogenesis. A comprehensive review of immunomodulatory control of NAD biosynthesis and degradation in MS pathogenesis is presented. Distinctive pharmacological approaches designed for NAD-complementation or targeting NAD-centric proteins (SIRT1, SIRT2, PARP-1, GPR109a, and CD38) are outlined towards determining which approach may work best in the context of clinical application.\", 'Selection of therapeutic H5N1 monoclonal antibodies following IgVH repertoire analysis in mice.\\nThe rapid rate of influenza virus mutation drives the emergence of new strains that inflict serious seasonal epidemics and less frequent, but more deadly, pandemics. While vaccination provides the best protection against influenza, its utility is often diminished by the unpredictability of new pathogenic strains. Consequently, efforts are underway to identify new antiviral drugs and monoclonal antibodies that can be used to treat recently infected individuals and prevent disease in vulnerable populations. Next Generation Sequencing (NGS) and the analysis of antibody gene repertoires is a valuable tool for Ab discovery. Here, we describe a technology platform for isolating therapeutic monoclonal antibodies (MAbs) by analyzing the IgVH repertoires of mice immunized with recombinant H5N1 hemagglutinin (rH5). As an initial proof of concept, 35 IgVH genes were selected using a CDRH3 search algorithm and co-expressed in a murine IgG2a expression vector with a panel of germline murine kappa genes. Culture supernatants were then screened for antigen binding. Seventeen of the 35 IgVH MAbs (49%) bound rH5VN1203 in preliminary screens and 8 of 9 purified MAbs inhibited 3 heterosubtypic strains of H5N1 virus when assayed by HI. Two of these MAbs demonstrated prophylactic and therapeutic activity in virus-challenged mice. This is the first example in which an NGS discovery platform has been used to isolate anti-influenza MAbs with relevant therapeutic activity.'], 'labels': [[True, False], [False, True], [False, True]]}\n"
     ]
    }
   ],
   "source": [
    "for i in range(5):\n",
    "  datasetI = sample_balanced_dataset(dataset).train_test_split(0.1)\n",
    "  print(datasetI[\"test\"][range(3)])\n",
    "\n",
    "  "
   ]
  },
  {
   "cell_type": "code",
   "execution_count": null,
   "id": "4bb1e7a4",
   "metadata": {},
   "outputs": [],
   "source": []
  }
 ],
 "metadata": {
  "kernelspec": {
   "display_name": "venv",
   "language": "python",
   "name": "python3"
  },
  "language_info": {
   "codemirror_mode": {
    "name": "ipython",
    "version": 3
   },
   "file_extension": ".py",
   "mimetype": "text/x-python",
   "name": "python",
   "nbconvert_exporter": "python",
   "pygments_lexer": "ipython3",
   "version": "3.13.1"
  }
 },
 "nbformat": 4,
 "nbformat_minor": 5
}
