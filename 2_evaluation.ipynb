{
 "cells": [
  {
   "cell_type": "code",
   "execution_count": null,
   "id": "c27670bd",
   "metadata": {},
   "outputs": [],
   "source": [
    "from datasets import load_dataset\n",
    "\n",
    "dataset = load_dataset(\n",
    "    \"arrow\",\n",
    "    data_files={\n",
    "        \"test\": f\"datasets/abstracts.hf/test/data-00000-of-00001.arrow\",\n",
    "    },\n",
    ")\n",
    "\n",
    "dataset"
   ]
  },
  {
   "cell_type": "code",
   "execution_count": null,
   "id": "4455f427",
   "metadata": {},
   "outputs": [],
   "source": [
    "def get_text_and_labels(x: dict) -> dict:\n",
    "    text = x[\"title\"] + \"\\n\" + \"\\n\".join(x[\"abstract\"])\n",
    "    return {\"text\": text, \"label\": int(x[\"is_selected\"])}\n",
    "\n",
    "\n",
    "dataset = dataset.map(get_text_and_labels)\n",
    "\n",
    "dataset"
   ]
  },
  {
   "cell_type": "code",
   "execution_count": null,
   "id": "31ef8cf6",
   "metadata": {},
   "outputs": [],
   "source": [
    "from transformers import AutoTokenizer, AutoModelForSequenceClassification\n",
    "from evaluate import evaluator, combine\n",
    "\n",
    "model = AutoModelForSequenceClassification.from_pretrained(\"trained-model\")\n",
    "tokenizer = AutoTokenizer.from_pretrained(\"trained-model\", model_max_length=512)\n",
    "\n",
    "task_evaluator = evaluator(\"text-classification\")\n",
    "\n",
    "eval_result = task_evaluator.compute(\n",
    "    model_or_pipeline=model,\n",
    "    data=dataset[\"test\"],\n",
    "    tokenizer=tokenizer,\n",
    "    label_mapping={\"LABEL_0\": 0, \"LABEL_1\": 1},\n",
    "    metric=combine([\"accuracy\", \"precision\", \"recall\", \"f1\"]),\n",
    ")\n",
    "\n",
    "print(eval_result)\n",
    "\n"
   ]
  }
 ],
 "metadata": {
  "kernelspec": {
   "display_name": "venv",
   "language": "python",
   "name": "python3"
  },
  "language_info": {
   "codemirror_mode": {
    "name": "ipython",
    "version": 3
   },
   "file_extension": ".py",
   "mimetype": "text/x-python",
   "name": "python",
   "nbconvert_exporter": "python",
   "pygments_lexer": "ipython3",
   "version": "3.12.9"
  }
 },
 "nbformat": 4,
 "nbformat_minor": 5
}
